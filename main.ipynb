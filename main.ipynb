{
 "cells": [
  {
   "cell_type": "markdown",
   "metadata": {},
   "source": [
    "# Langton's Ants"
   ]
  },
  {
   "cell_type": "raw",
   "metadata": {},
   "source": [
    "Playing with Langton's Ants:\n",
    "\n",
    "   (1) Create a world (for a closed world you would need to specify its size and boundary condition)\n",
    "\n",
    "-> (2) Add some ants to it (you can specify the rule for each ant)\n",
    "\n",
    "-> (3) Apply the ani_gen method and generate an .mp4 video (on my laptop, it takes about twice the running time of the output video, which is specified by 'duration')"
   ]
  },
  {
   "cell_type": "raw",
   "metadata": {},
   "source": [
    "Open worlds and closed worlds are implemented differently.\n",
    "\n",
    "a. For open worlds, we have an OpenWorld class.\n",
    "\n",
    "class OpenWorld\n",
    "|\n",
    "| Some methods (whose functionalities should be obvious) are listed as follows:\n",
    "|\n",
    "| __init__(self, setting=default)\n",
    "|\n",
    "| add_ant(self, pos, dir2d, rule=RL)\n",
    "|\n",
    "| ani_gen(self, path, title=\"\", camp=\"binary\", duration=3e2)\n",
    "\n",
    "\n",
    "b. For closed worlds, we have an ClosedWorld class.\n",
    "\n",
    "class ClosedWorld\n",
    "|\n",
    "| Some methods (whose functionalities should be obvious) are listed as follows:\n",
    "|\n",
    "| __init__(self, xrange, yrange, boundary=\"wrapped\")\n",
    "|\n",
    "| add_ant(self, pos, dir2d, rule=RL)\n",
    "|\n",
    "| ani_gen(self, path, title=\"\", camp=\"binary\", duration=3e2)\n",
    "\n",
    "P.S. Open worlds implemented this way can only work with two colors (black & white). To play with more than two colors, you will have to rewrite several functions including its 'ani_gen' method. Things are much easier with closed worlds, for which you only need to modify some constants."
   ]
  },
  {
   "cell_type": "raw",
   "metadata": {},
   "source": [
    "Some predefined constants:\n",
    "\n",
    "(1) Ant directions (as np.complex):\n",
    "up, down, left, right\n",
    "\n",
    "(2) Turning operations (as np.complex):\n",
    "turnl, turnr， reverse\n",
    "\n",
    "(3) Colors (as int):\n",
    "white, blue, red, black\n",
    "\n",
    "(4) Color map:\n",
    "quadcmap = ListedColormap(['w','b','r','k'])\n",
    "\n",
    "(5) Rules:\n",
    "RL = {white:(turnr,black), black:(turnl,white)}\n",
    "LR = {white:(turnl,black), black:(turnr,white)}\n",
    "RRLL = {white:(turnr,blue), blue:(turnr,red),\n",
    "        red:(turnl,black), black:(turnl,white)}\n",
    "RLLL = {white:(turnr,blue), blue:(turnl,red),\n",
    "        red:(turnl,black), black:(turnl,white)}\n",
    "RLRL = {white:(turnr,blue), blue:(turnl,red),\n",
    "        red:(turnr,black), black:(turnl,white)}"
   ]
  },
  {
   "cell_type": "code",
   "execution_count": null,
   "metadata": {},
   "outputs": [],
   "source": [
    "# Try installing MoviePy with the command:\n",
    "# conda install -c conda-forge moviepy\n",
    "from langton import *\n",
    "%matplotlib notebook"
   ]
  },
  {
   "cell_type": "code",
   "execution_count": null,
   "metadata": {
    "scrolled": true
   },
   "outputs": [],
   "source": [
    "ow = OpenWorld()\n",
    "ow.add_ant((0,0), right)\n",
    "ow.ani_gen('open.mp4', 'Open World', duration = 240)"
   ]
  },
  {
   "cell_type": "code",
   "execution_count": null,
   "metadata": {},
   "outputs": [],
   "source": [
    "fbw = ClosedWorld(81,81,'fixed')\n",
    "fbw.add_ant((40,40), right)\n",
    "fbw.ani_gen('fixed.mp4', 'Fixed-Boundary World', duration = 240)"
   ]
  },
  {
   "cell_type": "code",
   "execution_count": null,
   "metadata": {
    "scrolled": true
   },
   "outputs": [],
   "source": [
    "wbw = ClosedWorld(101,101)\n",
    "wbw.add_ant((50,50), right)\n",
    "wbw.ani_gen('wrapped.mp4', 'Wrapped-Boundary World', duration = 6e2)"
   ]
  },
  {
   "cell_type": "code",
   "execution_count": null,
   "metadata": {
    "scrolled": true
   },
   "outputs": [],
   "source": [
    "rrll = ClosedWorld(31,31)\n",
    "rrll.add_ant((15,15), right, RRLL)\n",
    "rrll.ani_gen('RRLL.mp4', 'Rule RRLL', quadcmap)"
   ]
  },
  {
   "cell_type": "code",
   "execution_count": null,
   "metadata": {
    "scrolled": true
   },
   "outputs": [],
   "source": [
    "rlll = ClosedWorld(101,101)\n",
    "rlll.add_ant((50,50), right, RLLL)\n",
    "rlll.ani_gen('RLLL.mp4', 'Rule RLLL', quadcmap)"
   ]
  },
  {
   "cell_type": "code",
   "execution_count": null,
   "metadata": {},
   "outputs": [],
   "source": [
    "rlrl = ClosedWorld(101,101)\n",
    "rlrl.add_ant((50,50), right, RLRL)\n",
    "rlrl.ani_gen('RLRL.mp4', 'Rule RLRL', quadcmap, 6e2)"
   ]
  },
  {
   "cell_type": "code",
   "execution_count": null,
   "metadata": {
    "scrolled": true
   },
   "outputs": [],
   "source": [
    "double = ClosedWorld(41,41)\n",
    "double.add_ant((20,20), right)\n",
    "double.add_ant((20,20), up, LR)\n",
    "double.ani_gen('double.mp4', 'RL(→) & LR(↑)')"
   ]
  },
  {
   "cell_type": "code",
   "execution_count": null,
   "metadata": {
    "scrolled": true
   },
   "outputs": [],
   "source": [
    "double2 = ClosedWorld(41,41)\n",
    "double2.add_ant((20,20), right)\n",
    "double2.add_ant((20,20), down, LR)\n",
    "double2.ani_gen('double2.mp4', 'RL(→) & LR(↓)')"
   ]
  }
 ],
 "metadata": {
  "kernelspec": {
   "display_name": "Python 3",
   "language": "python",
   "name": "python3"
  },
  "language_info": {
   "codemirror_mode": {
    "name": "ipython",
    "version": 3
   },
   "file_extension": ".py",
   "mimetype": "text/x-python",
   "name": "python",
   "nbconvert_exporter": "python",
   "pygments_lexer": "ipython3",
   "version": "3.7.1"
  }
 },
 "nbformat": 4,
 "nbformat_minor": 2
}
