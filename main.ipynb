{
 "cells": [
  {
   "cell_type": "code",
   "execution_count": null,
   "metadata": {},
   "outputs": [],
   "source": [
    "import numpy as np\n",
    "import matplotlib.pyplot as plt\n",
    "from matplotlib.colors import ListedColormap\n",
    "from moviepy.editor import VideoClip\n",
    "from moviepy.video.io.bindings import mplfig_to_npimage"
   ]
  },
  {
   "cell_type": "code",
   "execution_count": null,
   "metadata": {},
   "outputs": [],
   "source": [
    "up = np.complex(0,1)\n",
    "down = np.complex(0,-1)\n",
    "left = np.complex(-1,0)\n",
    "right = np.complex(1,0)\n",
    "\n",
    "turnl = np.complex(0,1)\n",
    "turnr = np.complex(0,-1)\n",
    "reverse = np.complex(-1,0)\n",
    "\n",
    "white = 0\n",
    "blue = 1\n",
    "red = 2\n",
    "black = 3\n",
    "\n",
    "quadcmap = ListedColormap(['w','b','r','k'])"
   ]
  },
  {
   "cell_type": "code",
   "execution_count": null,
   "metadata": {},
   "outputs": [],
   "source": [
    "RL = {white:(turnr,black), black:(turnl,white)}\n",
    "LR = {white:(turnl,black), black:(turnr,white)}\n",
    "RRLL = {white:(turnr,blue), blue:(turnr,red),\n",
    "        red:(turnl,black), black:(turnl,white)}\n",
    "RLLL = {white:(turnr,blue), blue:(turnl,red),\n",
    "        red:(turnl,black), black:(turnl,white)}\n",
    "RLRL = {white:(turnr,blue), blue:(turnl,red),\n",
    "        red:(turnr,black), black:(turnl,white)}"
   ]
  },
  {
   "cell_type": "code",
   "execution_count": null,
   "metadata": {},
   "outputs": [],
   "source": [
    "# Default settings for an open (i.e. expandable) world\n",
    "# For which we need a set (instead of an array)\n",
    "bset = set()\n",
    "\n",
    "# Then a function would be necessary to transform it into an array when plotting it\n",
    "def into_array(bset):\n",
    "    getrange = lambda l: (min(min(l,default=0),-3), max(max(l,default=0),3))\n",
    "    xrange = getrange([pos[0] for pos in bset])\n",
    "    yrange = getrange([pos[1] for pos in bset])\n",
    "    grid = np.zeros([yrange[1]-yrange[0]+1,xrange[1]-xrange[0]+1], int)\n",
    "    new_pos = [(yrange[1]-pos[1],pos[0]-xrange[0]) for pos in bset]\n",
    "    grid[[pos[0] for pos in new_pos], [pos[1] for pos in new_pos]]=1\n",
    "    return(grid)\n",
    "\n",
    "# The following functions could be implemented in a different way if the colors are stored in an array\n",
    "def check_clr(pos):\n",
    "    if pos in bset:\n",
    "        return(black)\n",
    "    else:\n",
    "        return(white)\n",
    "    \n",
    "def recolor(pos, color):\n",
    "    if color == black:\n",
    "        bset.add(pos)\n",
    "    if color == white:\n",
    "        bset.discard(pos)\n",
    "        \n",
    "defaultopen = (check_clr, recolor)"
   ]
  },
  {
   "cell_type": "code",
   "execution_count": null,
   "metadata": {},
   "outputs": [],
   "source": [
    "class ant:\n",
    "    \n",
    "    def __init__(self, pos, dir2d, check_clr=check_clr, rule=RL):\n",
    "        self.pos = np.complex(*pos)\n",
    "        self.dir = dir2d\n",
    "        self.rule = rule\n",
    "        self.check_clr = check_clr\n",
    "        \n",
    "    def loc(self):\n",
    "        return((int(self.pos.real),int(self.pos.imag)))\n",
    "    \n",
    "    def color(self):\n",
    "        return(self.check_clr(self.loc()))\n",
    "    \n",
    "    def turn_and_forward(self, toturn):\n",
    "        self.dir = self.dir*toturn\n",
    "        self.pos = self.pos+self.dir\n",
    "        \n",
    "    def step(self):\n",
    "        toturn, tocolor = self.rule[self.color()]\n",
    "        loc = self.loc()\n",
    "        self.turn_and_forward(toturn)\n",
    "        return((loc, tocolor))\n",
    "        \n",
    "    def wrapped(self, xrange, yrange):\n",
    "        self.pos = np.complex(self.pos.real%xrange, self.pos.imag%yrange)\n",
    "        \n",
    "    def fixed(self, xrange, yrange):\n",
    "        x,y = self.pos.real,self.pos.imag\n",
    "        x -= (x<0)*x + (x>xrange-1)*(x-xrange+1)\n",
    "        y -= (y<0)*y + (y>yrange-1)*(y-yrange+1)\n",
    "        self.pos = np.complex(x,y)"
   ]
  },
  {
   "cell_type": "code",
   "execution_count": null,
   "metadata": {},
   "outputs": [],
   "source": [
    "class OpenWorld:\n",
    "    \n",
    "    def __init__(self, setting=defaultopen):\n",
    "        self.antlist = []\n",
    "        self.check_clr, self.recolor = setting\n",
    "    \n",
    "    def add_ant(self, pos, dir2d, rule=RL):\n",
    "        self.antlist.append(ant(pos, dir2d, self.check_clr, rule))\n",
    "        \n",
    "    def step(self):\n",
    "        changes = [a.step() for a in self.antlist]\n",
    "        [self.recolor(*change) for change in changes]\n",
    "        \n",
    "    def steps(self, times=1):\n",
    "        [self.step() for _ in range(times)]"
   ]
  },
  {
   "cell_type": "code",
   "execution_count": null,
   "metadata": {},
   "outputs": [],
   "source": [
    "class ClosedWorld:\n",
    "    \n",
    "    def __init__(self, xrange, yrange, boundary):\n",
    "        self.ranges = (xrange, yrange)\n",
    "        self.grid = np.zeros((yrange, xrange))\n",
    "        self.boundary = boundary\n",
    "        self.check_clr = lambda pos:self.grid[pos]\n",
    "        self.antlist = []\n",
    "    \n",
    "    def add_ant(self, pos, dir2d, rule=RL):\n",
    "        self.antlist.append(ant(pos, turnl*dir2d, self.check_clr, rule))\n",
    "        \n",
    "    def recolor(self, pos, color):\n",
    "        self.grid[pos]=color\n",
    "        \n",
    "    def step(self):\n",
    "        changes = [a.step() for a in self.antlist]\n",
    "        [self.recolor(*change) for change in changes]\n",
    "        if self.boundary == 'wrapped':\n",
    "            [a.wrapped(*self.ranges) for a in self.antlist]\n",
    "        if self.boundary == 'fixed':\n",
    "            [a.fixed(*self.ranges) for a in self.antlist]\n",
    "            \n",
    "    def steps(self, times=1):\n",
    "        [self.step() for _ in range(times)]\n",
    "    \n",
    "    def plot(self, ax, cmap):\n",
    "        ax.imshow(self.grid,cmap=cmap,animated=True)"
   ]
  },
  {
   "cell_type": "code",
   "execution_count": null,
   "metadata": {},
   "outputs": [],
   "source": [
    "def ani_gen_open(world, path, title=\"\", cmap='binary', duration=3e2):\n",
    "    bset.clear()\n",
    "    fig, ax = plt.subplots(1, figsize=(4, 4), facecolor=(1,1,1))\n",
    "    def make_frame(t):\n",
    "        ax.clear()\n",
    "        ax.axis('off')\n",
    "        ax.set_title(title, fontsize=16)\n",
    "        world.step()\n",
    "        ax.imshow(into_array(bset),cmap=cmap,animated=True)\n",
    "        return(mplfig_to_npimage(fig))\n",
    "    ani = VideoClip(make_frame, duration = duration)\n",
    "    ani.write_videofile(path, fps=50)\n",
    "    return\n",
    "\n",
    "def ani_gen_closed(world, path, title=\"\", cmap='binary', duration=3e2):\n",
    "    bset.clear()\n",
    "    fig, ax = plt.subplots(1, figsize=(4, 4), facecolor=(1,1,1))\n",
    "    def make_frame(t):\n",
    "        ax.clear()\n",
    "        ax.axis('off')\n",
    "        ax.set_title(title, fontsize=16)\n",
    "        world.step()\n",
    "        world.plot(ax,cmap)\n",
    "        return(mplfig_to_npimage(fig))\n",
    "    ani = VideoClip(make_frame, duration = duration)\n",
    "    ani.write_videofile(path, fps=50)\n",
    "    return"
   ]
  },
  {
   "cell_type": "code",
   "execution_count": null,
   "metadata": {
    "scrolled": true
   },
   "outputs": [],
   "source": [
    "%matplotlib notebook\n",
    "\n",
    "world0 = OpenWorld()\n",
    "world0.add_ant((0,0), right)\n",
    "ani_gen_open(world0, 'open1.mp4', 'Open World', duration = 5)"
   ]
  },
  {
   "cell_type": "code",
   "execution_count": null,
   "metadata": {
    "scrolled": true
   },
   "outputs": [],
   "source": [
    "world1 = ClosedWorld(101,101,'wrapped')\n",
    "world1.add_ant((50,50), right)\n",
    "ani_gen_closed(world1, 'wrapped.mp4', 'Wrapped World', duration = 6e2)"
   ]
  },
  {
   "cell_type": "code",
   "execution_count": null,
   "metadata": {},
   "outputs": [],
   "source": [
    "world2 = ClosedWorld(101,101,'fixed')\n",
    "world2.add_ant((50,50), right)\n",
    "ani_gen_closed(world2, 'fixed.mp4', 'Fixed-Boundary World')"
   ]
  },
  {
   "cell_type": "code",
   "execution_count": null,
   "metadata": {
    "scrolled": true
   },
   "outputs": [],
   "source": [
    "world3 = ClosedWorld(51,51,'wrapped')\n",
    "world3.add_ant((25,25), right, RRLL)\n",
    "ani_gen_closed(world3, 'RRLL.mp4', 'Rule RRLL', quadcmap, 5)"
   ]
  },
  {
   "cell_type": "code",
   "execution_count": null,
   "metadata": {
    "scrolled": true
   },
   "outputs": [],
   "source": [
    "world4 = ClosedWorld(51,51,'wrapped')\n",
    "world4.add_ant((25,25), right, RLLL)\n",
    "ani_gen_closed(world4, 'RLLL.mp4', 'Rule RLLL', quadcmap, 50)"
   ]
  },
  {
   "cell_type": "code",
   "execution_count": null,
   "metadata": {},
   "outputs": [],
   "source": [
    "world6 = ClosedWorld(51,51,'wrapped')\n",
    "world6.add_ant((25,25), right, RLLL)\n",
    "ani_gen_closed(world6, 'RLRL.mp4', 'Rule RLRL', quadcmap, 50)"
   ]
  },
  {
   "cell_type": "code",
   "execution_count": null,
   "metadata": {
    "scrolled": true
   },
   "outputs": [],
   "source": [
    "world5 = OpenWorld()\n",
    "world5.add_ant((0,0), right)\n",
    "world5.add_ant((0,0), up, LR)\n",
    "ani_gen_open(world5, 'double.mp4', 'Two Ants (LR & RL)', duration = 5)"
   ]
  },
  {
   "cell_type": "code",
   "execution_count": null,
   "metadata": {},
   "outputs": [],
   "source": [
    "world7 = ClosedWorld(51,51,'wrapped')\n",
    "world7.add_ant((25,25), right)\n",
    "world7.add_ant((25,25), up, LR)\n",
    "ani_gen_closed(world7, 'double2.mp4', 'Two Ants (LR & RL)', duration = 50)"
   ]
  },
  {
   "cell_type": "code",
   "execution_count": null,
   "metadata": {
    "scrolled": true
   },
   "outputs": [],
   "source": [
    "fig1, ax1 = plt.subplots(1, figsize=(4, 4), facecolor=(1,1,1))\n",
    "\n",
    "world1 = ClosedWorld(101,101,'wrapped')\n",
    "world1.add_ant((50,50), right)\n",
    "\n",
    "def make_frame1(t):\n",
    "    ax1.clear()\n",
    "    ax1.axis('off')\n",
    "    ax1.set_title(\"Wrapped World\", fontsize=16)\n",
    "    world1.step()\n",
    "    world1.plot(ax1, 'binary')\n",
    "    return(mplfig_to_npimage(fig1))\n",
    "\n",
    "animation1 = VideoClip(make_frame1, duration = 3e2)\n",
    "animation1.write_videofile(\"wrapped.mp4\", fps=50)"
   ]
  },
  {
   "cell_type": "code",
   "execution_count": null,
   "metadata": {
    "scrolled": true
   },
   "outputs": [],
   "source": [
    "fig, ax = plt.subplots(1, figsize=(4, 4), facecolor=(1,1,1))\n",
    "\n",
    "world2 = ClosedWorld(101,101,'fixed')\n",
    "world2.add_ant((50,50), right)\n",
    "\n",
    "def make_frame2(t):\n",
    "    ax.clear()\n",
    "    ax.axis('off')\n",
    "    ax.set_title(\"Fixed-Boundary World\", fontsize=16)\n",
    "    world1.step()\n",
    "    world1.plot(ax, 'binary')\n",
    "    return(mplfig_to_npimage(fig))\n",
    "\n",
    "animation = VideoClip(make_frame2, duration = 3e2)\n",
    "animation.write_videofile(\"fixed.mp4\", fps=50)"
   ]
  },
  {
   "cell_type": "code",
   "execution_count": null,
   "metadata": {},
   "outputs": [],
   "source": [
    "\n",
    "fig, ax = plt.subplots(1, figsize=(4, 4), facecolor=(1,1,1))\n",
    "\n",
    "world3 = ClosedWorld(50,50,'wrapped')\n",
    "world3.add_ant((25,25), right, RRLL)\n",
    "\n",
    "def make_frame3(t):\n",
    "    ax.clear()\n",
    "    ax.axis('off')\n",
    "    ax.set_title(\"Wrapped World\", fontsize=16)\n",
    "    world3.step()\n",
    "    world3.plot(ax, quadcmap)\n",
    "    return(mplfig_to_npimage(fig))\n",
    "\n",
    "animation = VideoClip(make_frame3, duration = 3e2)\n",
    "animation.write_videofile(\"quadcol.mp4\", fps=50)"
   ]
  },
  {
   "cell_type": "code",
   "execution_count": null,
   "metadata": {},
   "outputs": [],
   "source": []
  },
  {
   "cell_type": "code",
   "execution_count": null,
   "metadata": {},
   "outputs": [],
   "source": []
  },
  {
   "cell_type": "code",
   "execution_count": null,
   "metadata": {},
   "outputs": [],
   "source": []
  }
 ],
 "metadata": {
  "kernelspec": {
   "display_name": "Python 3",
   "language": "python",
   "name": "python3"
  },
  "language_info": {
   "codemirror_mode": {
    "name": "ipython",
    "version": 3
   },
   "file_extension": ".py",
   "mimetype": "text/x-python",
   "name": "python",
   "nbconvert_exporter": "python",
   "pygments_lexer": "ipython3",
   "version": "3.7.1"
  }
 },
 "nbformat": 4,
 "nbformat_minor": 2
}
